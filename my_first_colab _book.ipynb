{
  "nbformat": 4,
  "nbformat_minor": 0,
  "metadata": {
    "colab": {
      "name": "Untitled4.ipynb",
      "provenance": [],
      "authorship_tag": "ABX9TyMKtakgk3OAO8XCC4PZz+5I",
      "include_colab_link": true
    },
    "kernelspec": {
      "name": "python3",
      "display_name": "Python 3"
    },
    "language_info": {
      "name": "python"
    }
  },
  "cells": [
    {
      "cell_type": "markdown",
      "metadata": {
        "id": "view-in-github",
        "colab_type": "text"
      },
      "source": [
        "<a href=\"https://colab.research.google.com/github/venkatasai12345/ml-2021/blob/main/my_first_colab%20_book.ipynb\" target=\"_parent\"><img src=\"https://colab.research.google.com/assets/colab-badge.svg\" alt=\"Open In Colab\"/></a>"
      ]
    },
    {
      "cell_type": "markdown",
      "metadata": {
        "id": "3EPG2TqXqn7G"
      },
      "source": [
        ".printing hello world"
      ]
    },
    {
      "cell_type": "code",
      "metadata": {
        "colab": {
          "base_uri": "https://localhost:8080/"
        },
        "id": "jA7rR4V4q0MI",
        "outputId": "63adc688-4909-4cf9-b9ac-39b43a34784d"
      },
      "source": [
        "print(\"hello world !\")"
      ],
      "execution_count": 1,
      "outputs": [
        {
          "output_type": "stream",
          "name": "stdout",
          "text": [
            "hello world !\n"
          ]
        }
      ]
    },
    {
      "cell_type": "markdown",
      "metadata": {
        "id": "VefoOXJCrRkG"
      },
      "source": [
        ". EVEN OR ODD"
      ]
    },
    {
      "cell_type": "code",
      "metadata": {
        "colab": {
          "base_uri": "https://localhost:8080/"
        },
        "id": "2hOOjwL0ra4G",
        "outputId": "9c475ab3-c420-4b41-a3f1-4d77392fb43b"
      },
      "source": [
        "a=int(input(\"enter a number :\"))\n",
        "if a%2==0:\n",
        "  print(\"number is even\")\n",
        "else:\n",
        "  print('number is odd')"
      ],
      "execution_count": 2,
      "outputs": [
        {
          "output_type": "stream",
          "name": "stdout",
          "text": [
            "enter a number :2\n",
            "number is even\n"
          ]
        }
      ]
    },
    {
      "cell_type": "markdown",
      "metadata": {
        "id": "0qhiqMWzsHLy"
      },
      "source": [
        ".BIGGEST AMONG TWO NUMBERS"
      ]
    },
    {
      "cell_type": "code",
      "metadata": {
        "colab": {
          "base_uri": "https://localhost:8080/"
        },
        "id": "30QxOlj_sQAb",
        "outputId": "15eca7ba-22f6-473a-b26f-832046c9bcf8"
      },
      "source": [
        "a=int(input(\"enter a num1 :\"))\n",
        "b=int(input(\"enter a num2 :\"))\n",
        "if a>b:\n",
        "  print(\"a is greater\")\n",
        "else:\n",
        "  print(\"b is greater\")"
      ],
      "execution_count": 3,
      "outputs": [
        {
          "output_type": "stream",
          "name": "stdout",
          "text": [
            "enter a num1 :2\n",
            "enter a num2 :4\n",
            "b is greater\n"
          ]
        }
      ]
    }
  ]
}